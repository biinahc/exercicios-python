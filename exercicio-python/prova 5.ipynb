{
 "cells": [
  {
   "cell_type": "code",
   "execution_count": 1,
   "metadata": {},
   "outputs": [
    {
     "name": "stdout",
     "output_type": "stream",
     "text": [
      "Ligue o primeiro interruptor e espere.\n",
      "Ligue o segundo interruptor e vá verificar as lâmpadas.\n",
      "A associação entre interruptores e lâmpadas é: [1, '3', '2']\n"
     ]
    }
   ],
   "source": [
    "def descobrir_interruptores():\n",
    "  \"\"\"Descobre qual interruptor controla qual lâmpada.\n",
    "\n",
    "  Returns:\n",
    "    Uma lista com a associação entre interruptores e lâmpadas.\n",
    "  \"\"\"\n",
    "\n",
    "  print(\"Ligue o primeiro interruptor e espere.\")\n",
    "\n",
    "\n",
    "  print(\"Ligue o segundo interruptor e vá verificar as lâmpadas.\")\n",
    "\n",
    "\n",
    "  lampada_ligada = input(\"Qual lâmpada está ligada? (1, 2 ou 3): \")\n",
    "  lampada_quente = input(\"Qual lâmpada está quente? (1, 2 ou 3): \")\n",
    "\n",
    "\n",
    "  if lampada_ligada == lampada_quente:\n",
    "  \n",
    "    return [2, 1, 3] \n",
    "  else:\n",
    " \n",
    "    return [1, lampada_quente, lampada_ligada]\n",
    "\n",
    "\n",
    "resultado = descobrir_interruptores()\n",
    "print(\"A associação entre interruptores e lâmpadas é:\", resultado)"
   ]
  }
 ],
 "metadata": {
  "kernelspec": {
   "display_name": "Python 3",
   "language": "python",
   "name": "python3"
  },
  "language_info": {
   "codemirror_mode": {
    "name": "ipython",
    "version": 3
   },
   "file_extension": ".py",
   "mimetype": "text/x-python",
   "name": "python",
   "nbconvert_exporter": "python",
   "pygments_lexer": "ipython3",
   "version": "3.12.5"
  }
 },
 "nbformat": 4,
 "nbformat_minor": 2
}

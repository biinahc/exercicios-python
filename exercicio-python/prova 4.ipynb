{
 "cells": [
  {
   "cell_type": "code",
   "execution_count": 1,
   "metadata": {},
   "outputs": [
    {
     "name": "stdout",
     "output_type": "stream",
     "text": [
      "Próximo elemento da sequência a: 12\n",
      "Próximo elemento da sequência b: 68\n",
      "Próximo elemento da sequência c: 40\n",
      "Próximo elemento da sequência d: 68\n",
      "Próximo elemento da sequência e: 12\n",
      "Próximo elemento da sequência f: 37\n"
     ]
    }
   ],
   "source": [
    "def proximo_elemento(sequencia):\n",
    "\n",
    "\n",
    "  if sequencia[-1] % 2 == 0: \n",
    "    return sequencia[-1] + 4\n",
    "  elif sequencia[-1] ** 0.5 == int(sequencia[-1] ** 0.5): \n",
    "    return (int(sequencia[-1] ** 0.5) + 1) ** 2\n",
    "  elif sequencia[-1] == 1 and len(sequencia) == 1:\n",
    "    return 1\n",
    "  elif len(sequencia) >= 3:  \n",
    "    return sequencia[-1] + sequencia[-2]\n",
    "\n",
    "\n",
    "\n",
    "sequencia_a = [1, 3, 5, 7]\n",
    "sequencia_b = [2, 4, 8, 16, 32, 64]\n",
    "sequencia_c = [0, 1, 4, 9, 16, 25, 36]\n",
    "sequencia_d = [4, 16, 36, 64]\n",
    "sequencia_e = [1, 1, 2, 3, 5, 8]\n",
    "sequencia_f = [2, 10, 12, 16, 17, 18, 19]\n",
    "\n",
    "print(\"Próximo elemento da sequência a:\", proximo_elemento(sequencia_a))\n",
    "print(\"Próximo elemento da sequência b:\", proximo_elemento(sequencia_b))\n",
    "print(\"Próximo elemento da sequência c:\", proximo_elemento(sequencia_c))\n",
    "print(\"Próximo elemento da sequência d:\", proximo_elemento(sequencia_d))\n",
    "print(\"Próximo elemento da sequência e:\", proximo_elemento(sequencia_e))\n",
    "print(\"Próximo elemento da sequência f:\", proximo_elemento(sequencia_f))  "
   ]
  }
 ],
 "metadata": {
  "kernelspec": {
   "display_name": "Python 3",
   "language": "python",
   "name": "python3"
  },
  "language_info": {
   "codemirror_mode": {
    "name": "ipython",
    "version": 3
   },
   "file_extension": ".py",
   "mimetype": "text/x-python",
   "name": "python",
   "nbconvert_exporter": "python",
   "pygments_lexer": "ipython3",
   "version": "3.12.5"
  }
 },
 "nbformat": 4,
 "nbformat_minor": 2
}

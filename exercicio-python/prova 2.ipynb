{
 "cells": [
  {
   "cell_type": "code",
   "execution_count": 3,
   "metadata": {},
   "outputs": [
    {
     "name": "stdout",
     "output_type": "stream",
     "text": [
      "A letra 'a' aparece 2 vezes no texto.\n"
     ]
    }
   ],
   "source": [
    "def contar_as(texto):\n",
    "  \"\"\"Conta a quantidade de vezes que a letra 'a' aparece em uma string.\n",
    "\n",
    "  Args:\n",
    "    texto: A string a ser analisada.\n",
    "\n",
    "  Returns:\n",
    "    A quantidade de ocorrências da letra 'a'.\n",
    "  \"\"\"\n",
    "\n",
    "  # Converter toda a string para minúsculas\n",
    "  texto_minusculo = texto.lower()\n",
    "\n",
    "  # Contar a quantidade de vezes que 'a' aparece\n",
    "  quantidade_as = texto_minusculo.count('a')\n",
    "\n",
    "  return quantidade_as\n",
    "\n",
    "# Entrada do usuário (pode ser substituída por uma string pré-definida)\n",
    "texto = input(\"Digite um texto: \")\n",
    "\n",
    "# Chamar a função e exibir o resultado\n",
    "quantidade = contar_as(texto)\n",
    "\n",
    "if quantidade > 0:\n",
    "  print(f\"A letra 'a' aparece {quantidade} vezes no texto.\")\n",
    "else:\n",
    "  print(\"A letra 'a' não foi encontrada no texto.\")"
   ]
  }
 ],
 "metadata": {
  "kernelspec": {
   "display_name": "Python 3",
   "language": "python",
   "name": "python3"
  },
  "language_info": {
   "codemirror_mode": {
    "name": "ipython",
    "version": 3
   },
   "file_extension": ".py",
   "mimetype": "text/x-python",
   "name": "python",
   "nbconvert_exporter": "python",
   "pygments_lexer": "ipython3",
   "version": "3.12.5"
  }
 },
 "nbformat": 4,
 "nbformat_minor": 2
}

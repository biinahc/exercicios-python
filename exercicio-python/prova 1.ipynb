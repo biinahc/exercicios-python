{
 "cells": [
  {
   "cell_type": "code",
   "execution_count": 3,
   "id": "8f3e36e6",
   "metadata": {},
   "outputs": [
    {
     "name": "stdout",
     "output_type": "stream",
     "text": [
      "O número 7 não pertence à sequência de Fibonacci.\n"
     ]
    }
   ],
   "source": [
    "def pertence_fibonacci(num):\n",
    "\n",
    "\n",
    "  a, b = 0, 1\n",
    "  while a <= num:\n",
    "    if a == num:\n",
    "      return True\n",
    "    a, b = b, a + b\n",
    "  return False\n",
    "\n",
    "\n",
    "numero = int(input(\"Digite um número: \"))\n",
    "\n",
    "\n",
    "if pertence_fibonacci(numero):\n",
    "  print(f\"O número {numero} pertence à sequência de Fibonacci.\")\n",
    "else:\n",
    "  print(f\"O número {numero} não pertence à sequência de Fibonacci.\")"
   ]
  }
 ],
 "metadata": {
  "kernelspec": {
   "display_name": "Python 3 (ipykernel)",
   "language": "python",
   "name": "python3"
  },
  "language_info": {
   "codemirror_mode": {
    "name": "ipython",
    "version": 3
   },
   "file_extension": ".py",
   "mimetype": "text/x-python",
   "name": "python",
   "nbconvert_exporter": "python",
   "pygments_lexer": "ipython3",
   "version": "3.9.13"
  }
 },
 "nbformat": 4,
 "nbformat_minor": 5
}
